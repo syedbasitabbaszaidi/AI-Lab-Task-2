{
 "cells": [
  {
   "cell_type": "markdown",
   "id": "84d17710",
   "metadata": {},
   "source": [
    "# Mini Project 1"
   ]
  },
  {
   "cell_type": "code",
   "execution_count": 2,
   "id": "19d11ac4",
   "metadata": {},
   "outputs": [
    {
     "name": "stdout",
     "output_type": "stream",
     "text": [
      "Enter any number:1\n",
      "Fizz\n",
      "You lost\n"
     ]
    }
   ],
   "source": [
    "number = int(input(\"Enter any number:\"))\n",
    "while True:\n",
    "    if number % 3 == 0 and number % 5 == 0:\n",
    "        print(\"Fizz Buzz\")\n",
    "        next_num = int(input(\"Again enter any number:\"))\n",
    "        number += next_num\n",
    "    elif number % 3 == 0:\n",
    "        print(\"Fizz\")\n",
    "        next_num = int(input(\"Again enter any number:\"))\n",
    "        number += next_num\n",
    "    elif number % 5 == 0:\n",
    "        print(\"Buzz\")\n",
    "        next_num = int(input(\"Again enter any number:\"))\n",
    "        number += next_num\n",
    "    else:\n",
    "        print(\"Fizz\")\n",
    "        print(\"You lost\")\n",
    "        break"
   ]
  },
  {
   "cell_type": "markdown",
   "id": "d33adb7c",
   "metadata": {},
   "source": [
    "# Mini Project 2"
   ]
  },
  {
   "cell_type": "code",
   "execution_count": 28,
   "id": "63a40558",
   "metadata": {},
   "outputs": [
    {
     "name": "stdout",
     "output_type": "stream",
     "text": [
      "Pirates of the Caribbean: On Stranger Tides    Higher : 188500000.0\n",
      "Avengers: Age of Ultron    Higher : 174500000.0\n",
      "Avengers: Endgame    Higher : 165500000.0\n",
      "Incredibles 2    Higher : 9500000.0\n"
     ]
    }
   ],
   "source": [
    "movies = [\n",
    "    (\"Eternal Sunshine of the Spotless Mind\", 20000000),\n",
    "    (\"Memento\", 9000000),\n",
    "    (\"Requiem for a Dream\", 4500000),\n",
    "    (\"Pirates of the Caribbean: On Stranger Tides\", 379000000),\n",
    "    (\"Avengers: Age of Ultron\", 365000000),\n",
    "    (\"Avengers: Endgame\", 356000000),\n",
    "    (\"Incredibles 2\", 200000000)\n",
    "]\n",
    "sum1 = 0\n",
    "for i in movies:\n",
    "    sum1 += i[1]\n",
    "avg = sum1 / len(movies)\n",
    "l1 = []\n",
    "for j in movies:\n",
    "    if j[1] > avg:\n",
    "        print(j[0],\"   Higher :\",j[1]-avg)\n",
    "        l1.append(j[0])"
   ]
  },
  {
   "cell_type": "code",
   "execution_count": 29,
   "id": "111a9a7d",
   "metadata": {},
   "outputs": [
    {
     "name": "stdout",
     "output_type": "stream",
     "text": [
      "Movies which spent higher than the average are :4\n"
     ]
    }
   ],
   "source": [
    "print(f\"Movies which spent higher than the average are :{len(l1)}\")"
   ]
  },
  {
   "cell_type": "code",
   "execution_count": 25,
   "id": "21bed021",
   "metadata": {},
   "outputs": [
    {
     "name": "stdout",
     "output_type": "stream",
     "text": [
      "How many movies do you want to add:0\n",
      "Movie(s) added successfully\n"
     ]
    }
   ],
   "source": [
    "def add_movies():\n",
    "    n1 = int(input(\"How many movies do you want to add:\"))\n",
    "    for i in range(n1):\n",
    "        name = input(\"Enter name:\")\n",
    "        budget = int(input(\"Enter budget\"))\n",
    "        t1 = (name,budget)\n",
    "        movies.append(t1)\n",
    "    print(\"Movie(s) added successfully\")\n",
    "add_movies()"
   ]
  },
  {
   "cell_type": "code",
   "execution_count": null,
   "id": "d04b8829",
   "metadata": {},
   "outputs": [],
   "source": []
  },
  {
   "cell_type": "code",
   "execution_count": null,
   "id": "594fce3a",
   "metadata": {},
   "outputs": [],
   "source": []
  }
 ],
 "metadata": {
  "kernelspec": {
   "display_name": "Python 3 (ipykernel)",
   "language": "python",
   "name": "python3"
  },
  "language_info": {
   "codemirror_mode": {
    "name": "ipython",
    "version": 3
   },
   "file_extension": ".py",
   "mimetype": "text/x-python",
   "name": "python",
   "nbconvert_exporter": "python",
   "pygments_lexer": "ipython3",
   "version": "3.11.5"
  }
 },
 "nbformat": 4,
 "nbformat_minor": 5
}
